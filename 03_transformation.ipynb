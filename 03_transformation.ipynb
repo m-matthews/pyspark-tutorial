{
 "cells": [
  {
   "cell_type": "markdown",
   "metadata": {},
   "source": [
    "# PySpark Tutorial - Data Transformation"
   ]
  },
  {
   "cell_type": "markdown",
   "metadata": {},
   "source": [
    "Create the Spark Session required for any PySpark program.  Most programs will store this in a variable named `spark`."
   ]
  },
  {
   "cell_type": "code",
   "execution_count": 1,
   "metadata": {},
   "outputs": [],
   "source": [
    "from pyspark.sql import SparkSession\n",
    "from pyspark.sql.functions import col, when, lit, concat, to_date, rank\n",
    "import pyspark.sql.functions as F\n",
    "from pyspark.sql.types import IntegerType, DateType, StringType\n",
    "from pyspark.sql.window import Window\n",
    "\n",
    "spark = SparkSession.builder.appName(\"PySparkTutorial\").getOrCreate()"
   ]
  },
  {
   "cell_type": "markdown",
   "metadata": {},
   "source": [
    "## Read the Source Data\n",
    "The following code creates a DataFrame for both the policies and claims by reading CSV files."
   ]
  },
  {
   "cell_type": "code",
   "execution_count": 2,
   "metadata": {},
   "outputs": [],
   "source": [
    "policyDF = spark.read.option(\"header\",True).csv(\"./data/policy.csv\") \\\n",
    "                .withColumn(\"sum_insured\", col(\"sum_insured\").cast(IntegerType())) \\\n",
    "                .withColumn(\"vehicle_age\", col(\"vehicle_age\").cast(IntegerType())) \\\n",
    "                .withColumn(\"premium\", col(\"premium\").cast(IntegerType()))\n",
    "claimsDF = spark.read.option(\"header\",True).csv(\"./data/claims.csv\") \\\n",
    "                .withColumn(\"cost\", col(\"cost\").cast(IntegerType()))"
   ]
  },
  {
   "cell_type": "markdown",
   "metadata": {},
   "source": [
    "Analysis of the Schemas show that the date variables are `string` types rather than Spark `date` types."
   ]
  },
  {
   "cell_type": "code",
   "execution_count": 3,
   "metadata": {},
   "outputs": [
    {
     "name": "stdout",
     "output_type": "stream",
     "text": [
      "root\n",
      " |-- policy: string (nullable = true)\n",
      " |-- make: string (nullable = true)\n",
      " |-- vehicle_age: integer (nullable = true)\n",
      " |-- sum_insured: integer (nullable = true)\n",
      " |-- inception_date: string (nullable = true)\n",
      " |-- start_date: string (nullable = true)\n",
      " |-- end_date: string (nullable = true)\n",
      " |-- premium: integer (nullable = true)\n",
      "\n",
      "root\n",
      " |-- policy: string (nullable = true)\n",
      " |-- incident_date: string (nullable = true)\n",
      " |-- cost: integer (nullable = true)\n",
      "\n"
     ]
    }
   ],
   "source": [
    "policyDF.printSchema()\n",
    "claimsDF.printSchema()"
   ]
  },
  {
   "cell_type": "markdown",
   "metadata": {},
   "source": [
    "## Creating new Columns\n",
    "The `withColumn()` method can be used to create new column in a number of ways.\n",
    "\n",
    "`when()` and `otherwise` can be used to create columns using similar logic to SQL `case` statements.\n",
    "\n",
    "Note that referring to columns in code can be done using `dataframe.column-name` or `col(\"column-name\")` in this case with equal results."
   ]
  },
  {
   "cell_type": "code",
   "execution_count": 4,
   "metadata": {},
   "outputs": [],
   "source": [
    "# These two methods of creating policyDF produce identical results.\n",
    "policyDF = policyDF.withColumn(\"status\", when(policyDF.start_date==policyDF.inception_date, \"New Business\") \\\n",
    "                                        .otherwise(\"Renewal\"))\n",
    "policyDF = policyDF.withColumn(\"status\", when(col(\"start_date\")==col(\"inception_date\"), \"New Business\") \\\n",
    "                                        .otherwise(\"Renewal\"))"
   ]
  },
  {
   "cell_type": "markdown",
   "metadata": {},
   "source": [
    "The `select()` method can be used to both subset the number of columns, and also order them in the resulting DataFrame."
   ]
  },
  {
   "cell_type": "code",
   "execution_count": 5,
   "metadata": {},
   "outputs": [
    {
     "name": "stdout",
     "output_type": "stream",
     "text": [
      "+-------+----------+------------+------+-----------+\n",
      "| policy|start_date|      status|  make|sum_insured|\n",
      "+-------+----------+------------+------+-----------+\n",
      "|CAR0001|  20180101|New Business|TOYOTA|      15000|\n",
      "|CAR0001|  20190101|     Renewal|TOYOTA|      13500|\n",
      "|CAR0001|  20200101|     Renewal|TOYOTA|      12000|\n",
      "|CAR0002|  20200210|New Business|SUBARU|      14000|\n",
      "|CAR0003|  20180315|New Business|  FORD|      10000|\n",
      "+-------+----------+------------+------+-----------+\n",
      "only showing top 5 rows\n",
      "\n"
     ]
    }
   ],
   "source": [
    "policyDF.select([\"policy\", \"start_date\", \"status\", \"make\", \"sum_insured\"]).show(5)"
   ]
  },
  {
   "cell_type": "markdown",
   "metadata": {},
   "source": [
    "## Transformation using a Python Function\n",
    "A python function can provide abilities that are not available in SQL.\n",
    "\n",
    "The following function will iterate over all columns in a DataFrame using `df.columns`. This appears to be constantly creating new DataFrames, however it should be remembered that Spark uses Lazy Evaluation, and this is just creating a chain of instructions that can later be optimised."
   ]
  },
  {
   "cell_type": "code",
   "execution_count": 6,
   "metadata": {
    "scrolled": true
   },
   "outputs": [
    {
     "name": "stdout",
     "output_type": "stream",
     "text": [
      "NOTE: Fixing date column 'inception_date'.\n",
      "NOTE: Fixing date column 'start_date'.\n",
      "NOTE: Fixing date column 'end_date'.\n",
      "NOTE: Fixing date column 'incident_date'.\n"
     ]
    }
   ],
   "source": [
    "def fix_dates(df):\n",
    "    \"\"\"Find all columns named *_date and convert from string to Spark Date type.\"\"\"\n",
    "    for col in df.columns:\n",
    "        if col.endswith(\"_date\") and dict(df.dtypes)[col]=='string':\n",
    "            print(\"NOTE: Fixing date column '{}'.\".format(col))\n",
    "            df = df.withColumn(col, to_date(df[col], \"yyyyMMdd\"))\n",
    "    return df\n",
    "\n",
    "policyDF = fix_dates(policyDF)\n",
    "claimsDF = fix_dates(claimsDF)"
   ]
  },
  {
   "cell_type": "markdown",
   "metadata": {},
   "source": [
    "Viewing the updated DataFrames shows that the date columns are now using the Spark `date` types."
   ]
  },
  {
   "cell_type": "code",
   "execution_count": 7,
   "metadata": {},
   "outputs": [
    {
     "name": "stdout",
     "output_type": "stream",
     "text": [
      "root\n",
      " |-- policy: string (nullable = true)\n",
      " |-- make: string (nullable = true)\n",
      " |-- vehicle_age: integer (nullable = true)\n",
      " |-- sum_insured: integer (nullable = true)\n",
      " |-- inception_date: date (nullable = true)\n",
      " |-- start_date: date (nullable = true)\n",
      " |-- end_date: date (nullable = true)\n",
      " |-- premium: integer (nullable = true)\n",
      " |-- status: string (nullable = false)\n",
      "\n",
      "+-------+------+-----------+-----------+--------------+----------+----------+-------+------------+\n",
      "| policy|  make|vehicle_age|sum_insured|inception_date|start_date|  end_date|premium|      status|\n",
      "+-------+------+-----------+-----------+--------------+----------+----------+-------+------------+\n",
      "|CAR0001|TOYOTA|          1|      15000|    2018-01-01|2018-01-01|2018-12-31|   1000|New Business|\n",
      "|CAR0001|TOYOTA|          2|      13500|    2018-01-01|2019-01-01|2019-12-31|    900|     Renewal|\n",
      "|CAR0001|TOYOTA|          3|      12000|    2018-01-01|2020-01-01|2020-12-31|    800|     Renewal|\n",
      "|CAR0002|SUBARU|          2|      14000|    2020-02-10|2020-02-10|2021-02-09|    950|New Business|\n",
      "|CAR0003|  FORD|          6|      10000|    2018-03-15|2018-03-15|2019-03-14|    700|New Business|\n",
      "+-------+------+-----------+-----------+--------------+----------+----------+-------+------------+\n",
      "only showing top 5 rows\n",
      "\n"
     ]
    }
   ],
   "source": [
    "policyDF.printSchema()\n",
    "policyDF.show(5)"
   ]
  },
  {
   "cell_type": "markdown",
   "metadata": {},
   "source": [
    "## Joining DataFrames"
   ]
  },
  {
   "cell_type": "code",
   "execution_count": 8,
   "metadata": {},
   "outputs": [
    {
     "name": "stdout",
     "output_type": "stream",
     "text": [
      "+-------+------+-----------+-----------+----------+----------+-------+-------+-------------+-----+\n",
      "| policy|  make|vehicle_age|sum_insured|start_date|  end_date|premium| policy|incident_date| cost|\n",
      "+-------+------+-----------+-----------+----------+----------+-------+-------+-------------+-----+\n",
      "|CAR0001|TOYOTA|          3|      12000|2020-01-01|2020-12-31|    800|CAR0001|   2020-06-05| 5000|\n",
      "|CAR0004| MAZDA|          5|      10000|2020-04-02|2021-04-01|    700|CAR0004|   2020-06-10| 3000|\n",
      "|CAR0007|   BMW|          4|      24000|2020-07-13|2021-07-12|   1600|CAR0007|   2020-09-10|24000|\n",
      "|CAR0009| TESLA|          1|      72000|2019-09-17|2020-09-16|   4800|CAR0009|   2020-02-10|15000|\n",
      "+-------+------+-----------+-----------+----------+----------+-------+-------+-------------+-----+\n",
      "\n"
     ]
    }
   ],
   "source": [
    "combinedDF = policyDF.select([\"policy\", \"make\", \"vehicle_age\", \"sum_insured\",\n",
    "                              \"start_date\", \"end_date\", \"premium\"]) \\\n",
    "                     .join(claimsDF, (policyDF.policy==claimsDF.policy) &\n",
    "                                     (policyDF.start_date<=claimsDF.incident_date) &\n",
    "                                     (policyDF.end_date>=claimsDF.incident_date))\n",
    "combinedDF.show()"
   ]
  },
  {
   "cell_type": "markdown",
   "metadata": {},
   "source": [
    "The duplicate `policy` column shown above can be easily removed with a `drop()`."
   ]
  },
  {
   "cell_type": "code",
   "execution_count": 9,
   "metadata": {},
   "outputs": [
    {
     "name": "stdout",
     "output_type": "stream",
     "text": [
      "+-------+------+-----------+-----------+----------+----------+-------+-------------+-----+\n",
      "| policy|  make|vehicle_age|sum_insured|start_date|  end_date|premium|incident_date| cost|\n",
      "+-------+------+-----------+-----------+----------+----------+-------+-------------+-----+\n",
      "|CAR0001|TOYOTA|          3|      12000|2020-01-01|2020-12-31|    800|   2020-06-05| 5000|\n",
      "|CAR0004| MAZDA|          5|      10000|2020-04-02|2021-04-01|    700|   2020-06-10| 3000|\n",
      "|CAR0007|   BMW|          4|      24000|2020-07-13|2021-07-12|   1600|   2020-09-10|24000|\n",
      "|CAR0009| TESLA|          1|      72000|2019-09-17|2020-09-16|   4800|   2020-02-10|15000|\n",
      "+-------+------+-----------+-----------+----------+----------+-------+-------------+-----+\n",
      "\n"
     ]
    }
   ],
   "source": [
    "combinedDF = policyDF.select([\"policy\", \"make\", \"vehicle_age\", \"sum_insured\",\n",
    "                              \"start_date\", \"end_date\", \"premium\"]) \\\n",
    "                     .join(claimsDF, (policyDF.policy==claimsDF.policy) &\n",
    "                                     (policyDF.start_date<=claimsDF.incident_date) &\n",
    "                                     (policyDF.end_date>=claimsDF.incident_date)) \\\n",
    "                     .drop(claimsDF.policy)\n",
    "combinedDF.show(5)"
   ]
  },
  {
   "cell_type": "markdown",
   "metadata": {},
   "source": [
    "Note that multiple `select`s can appear in the DataFrame logic as required.  The optimiser should help however forcing an early `select` will not hurt!"
   ]
  },
  {
   "cell_type": "code",
   "execution_count": 10,
   "metadata": {},
   "outputs": [
    {
     "name": "stdout",
     "output_type": "stream",
     "text": [
      "+-------+------+-----------+-----------+-------------+-----+\n",
      "| policy|  make|vehicle_age|sum_insured|incident_date| cost|\n",
      "+-------+------+-----------+-----------+-------------+-----+\n",
      "|CAR0001|TOYOTA|          3|      12000|   2020-06-05| 5000|\n",
      "|CAR0004| MAZDA|          5|      10000|   2020-06-10| 3000|\n",
      "|CAR0007|   BMW|          4|      24000|   2020-09-10|24000|\n",
      "|CAR0009| TESLA|          1|      72000|   2020-02-10|15000|\n",
      "+-------+------+-----------+-----------+-------------+-----+\n",
      "\n"
     ]
    }
   ],
   "source": [
    "combinedDF = policyDF.select([\"policy\", \"make\", \"vehicle_age\", \"sum_insured\", \"start_date\", \"end_date\"]) \\\n",
    "                     .join(claimsDF, (policyDF.policy==claimsDF.policy) &\n",
    "                                     (policyDF.start_date<=claimsDF.incident_date) &\n",
    "                                     (policyDF.end_date>=claimsDF.incident_date)) \\\n",
    "                     .drop(claimsDF.policy) \\\n",
    "                     .select([\"policy\", \"make\", \"vehicle_age\", \"sum_insured\", \"incident_date\", \"cost\"])\n",
    "combinedDF.show(5)"
   ]
  },
  {
   "cell_type": "markdown",
   "metadata": {},
   "source": [
    "The default join type is `inner`, however this can be changed by providing the join style as the third parameter to the `.join()`."
   ]
  },
  {
   "cell_type": "code",
   "execution_count": 11,
   "metadata": {},
   "outputs": [
    {
     "name": "stdout",
     "output_type": "stream",
     "text": [
      "+-------+-------+-----------+-----------+-------------+-----+\n",
      "| policy|   make|vehicle_age|sum_insured|incident_date| cost|\n",
      "+-------+-------+-----------+-----------+-------------+-----+\n",
      "|CAR0001| TOYOTA|          1|      15000|         null| null|\n",
      "|CAR0001| TOYOTA|          2|      13500|         null| null|\n",
      "|CAR0001| TOYOTA|          3|      12000|   2020-06-05| 5000|\n",
      "|CAR0002| SUBARU|          2|      14000|         null| null|\n",
      "|CAR0003|   FORD|          6|      10000|         null| null|\n",
      "|CAR0003|   FORD|          7|       9000|         null| null|\n",
      "|CAR0003|   FORD|          8|       8000|         null| null|\n",
      "|CAR0004|  MAZDA|          4|      11000|         null| null|\n",
      "|CAR0004|  MAZDA|          5|      10000|   2020-06-10| 3000|\n",
      "|CAR0005| HOLDEN|          9|       6000|         null| null|\n",
      "|CAR0006| SUZUKI|          5|       4000|         null| null|\n",
      "|CAR0007|    BMW|          4|      24000|   2020-09-10|24000|\n",
      "|CAR0008|   AUDI|          3|      28000|         null| null|\n",
      "|CAR0009|  TESLA|          1|      72000|   2020-02-10|15000|\n",
      "|CAR0009|  TESLA|          2|      65000|         null| null|\n",
      "|CAR0010|HYUNDAI|          6|       5000|         null| null|\n",
      "+-------+-------+-----------+-----------+-------------+-----+\n",
      "\n"
     ]
    }
   ],
   "source": [
    "combinedDF = policyDF.select([\"policy\", \"make\", \"vehicle_age\", \"sum_insured\", \"start_date\", \"end_date\"]) \\\n",
    "                     .join(claimsDF, (policyDF.policy==claimsDF.policy) &\n",
    "                                     (policyDF.start_date<=claimsDF.incident_date) &\n",
    "                                     (policyDF.end_date>=claimsDF.incident_date)\n",
    "                                   , \"left\") \\\n",
    "                     .drop(claimsDF.policy) \\\n",
    "                     .select([\"policy\", \"make\", \"vehicle_age\", \"sum_insured\", \"incident_date\", \"cost\"]) \\\n",
    "                     .show()"
   ]
  },
  {
   "cell_type": "markdown",
   "metadata": {},
   "source": [
    "## Windowing Functions\n",
    "\n",
    "Spark supports Windowing functions using similar syntax and logic to SQL queries.  Note that `sum()` is prefixed with the module alias `F` to prevent conflict with other functions of the same name.  This will appear frequently in sample code found on the internet."
   ]
  },
  {
   "cell_type": "code",
   "execution_count": 12,
   "metadata": {},
   "outputs": [
    {
     "name": "stdout",
     "output_type": "stream",
     "text": [
      "+-------+----------+-----------+-------+-------------+---------+\n",
      "| policy|start_date|policy_term|premium|total_premium|policy_id|\n",
      "+-------+----------+-----------+-------+-------------+---------+\n",
      "|CAR0002|2020-02-10|          1|    950|          950|CAR0002~1|\n",
      "|CAR0001|2018-01-01|          1|   1000|         1000|CAR0001~1|\n",
      "|CAR0001|2019-01-01|          2|    900|         1900|CAR0001~2|\n",
      "|CAR0001|2020-01-01|          3|    800|         2700|CAR0001~3|\n",
      "|CAR0006|2020-06-18|          1|    300|          300|CAR0006~1|\n",
      "|CAR0007|2020-07-13|          1|   1600|         1600|CAR0007~1|\n",
      "|CAR0008|2020-08-11|          1|   1800|         1800|CAR0008~1|\n",
      "|CAR0004|2019-04-02|          1|    750|          750|CAR0004~1|\n",
      "|CAR0004|2020-04-02|          2|    700|         1450|CAR0004~2|\n",
      "|CAR0009|2019-09-17|          1|   4800|         4800|CAR0009~1|\n",
      "|CAR0009|2020-09-17|          2|   3500|         8300|CAR0009~2|\n",
      "|CAR0010|2020-10-15|          1|    300|          300|CAR0010~1|\n",
      "|CAR0005|2020-05-16|          1|    400|          400|CAR0005~1|\n",
      "|CAR0003|2018-03-15|          1|    700|          700|CAR0003~1|\n",
      "|CAR0003|2019-03-15|          2|    600|         1300|CAR0003~2|\n",
      "|CAR0003|2020-03-15|          3|    550|         1850|CAR0003~3|\n",
      "+-------+----------+-----------+-------+-------------+---------+\n",
      "\n"
     ]
    }
   ],
   "source": [
    "policyDF = policyDF.withColumn(\"policy_term\", rank().over(Window.partitionBy(\"policy\").orderBy(\"start_date\"))) \\\n",
    "                   .withColumn(\"total_premium\", F.sum(\"premium\").over(Window.partitionBy(\"policy\")\n",
    "                                                                            .orderBy(\"start_date\"))) \\\n",
    "                   .withColumn(\"policy_id\", concat(policyDF.policy, lit(\"~\"), col(\"policy_term\")))\n",
    "\n",
    "policyDF.select([\"policy\", \"start_date\", \"policy_term\", \"premium\", \"total_premium\", \"policy_id\"]).show()"
   ]
  },
  {
   "cell_type": "markdown",
   "metadata": {},
   "source": [
    "## Summarisation\n",
    "\n",
    "The SQL concepts of `group by` and `order by` are also supported in PySpark.\n",
    "\n",
    "The following example shows summarisation with `groupBy`:"
   ]
  },
  {
   "cell_type": "code",
   "execution_count": 13,
   "metadata": {},
   "outputs": [
    {
     "name": "stdout",
     "output_type": "stream",
     "text": [
      "+------------+-------------+\n",
      "|      status|total_insured|\n",
      "+------------+-------------+\n",
      "|     Renewal|       107500|\n",
      "|New Business|       199000|\n",
      "+------------+-------------+\n",
      "\n"
     ]
    }
   ],
   "source": [
    "summary = policyDF.groupBy(\"status\").sum(\"sum_insured\") \\\n",
    "                  .withColumnRenamed(\"sum(sum_insured)\", \"total_insured\")\n",
    "summary.show()"
   ]
  },
  {
   "cell_type": "markdown",
   "metadata": {},
   "source": [
    "Spark has the ability to perform more complex transformations including Cross Tabular DataFrames."
   ]
  },
  {
   "cell_type": "code",
   "execution_count": 14,
   "metadata": {},
   "outputs": [
    {
     "name": "stdout",
     "output_type": "stream",
     "text": [
      "+------------+----+---+----+------+-------+-----+------+------+-----+------+\n",
      "| status_make|AUDI|BMW|FORD|HOLDEN|HYUNDAI|MAZDA|SUBARU|SUZUKI|TESLA|TOYOTA|\n",
      "+------------+----+---+----+------+-------+-----+------+------+-----+------+\n",
      "|New Business|   1|  1|   1|     1|      1|    2|     1|     1|    1|     1|\n",
      "|     Renewal|   0|  0|   2|     0|      0|    0|     0|     0|    1|     2|\n",
      "+------------+----+---+----+------+-------+-----+------+------+-----+------+\n",
      "\n"
     ]
    }
   ],
   "source": [
    "policyDF.crosstab(\"status\", \"make\").show()"
   ]
  },
  {
   "cell_type": "markdown",
   "metadata": {},
   "source": [
    "The column names can be renamed in a number of ways including the `.alias` method and `.withColumnRenamed`."
   ]
  },
  {
   "cell_type": "code",
   "execution_count": 15,
   "metadata": {},
   "outputs": [
    {
     "name": "stdout",
     "output_type": "stream",
     "text": [
      "+------------+----+---+----+------+-------+-----+------+------+-----+------+\n",
      "|      status|audi|bmw|ford|holden|hyundai|mazda|subaru|suzuki|tesla|toyota|\n",
      "+------------+----+---+----+------+-------+-----+------+------+-----+------+\n",
      "|New Business|   1|  1|   1|     1|      1|    2|     1|     1|    1|     1|\n",
      "|     Renewal|   0|  0|   2|     0|      0|    0|     0|     0|    1|     2|\n",
      "+------------+----+---+----+------+-------+-----+------+------+-----+------+\n",
      "\n"
     ]
    }
   ],
   "source": [
    "ctabDF = policyDF.crosstab(\"status\", \"make\")\n",
    "ctabDF = ctabDF.select([col(x).alias(x.lower()) for x in ctabDF.columns]) \\\n",
    "               .withColumnRenamed(\"status_make\", \"status\") \\\n",
    "               .show()"
   ]
  },
  {
   "cell_type": "markdown",
   "metadata": {},
   "source": [
    "It helps to save resources if you `stop()` the Spark session when you are finished.  Note that by doing this you will be unable to re-run any of the code above without first re-creating the `spark` variable."
   ]
  },
  {
   "cell_type": "code",
   "execution_count": 16,
   "metadata": {},
   "outputs": [],
   "source": [
    "spark.stop()"
   ]
  }
 ],
 "metadata": {
  "kernelspec": {
   "display_name": "Python 3",
   "language": "python",
   "name": "python3"
  },
  "language_info": {
   "codemirror_mode": {
    "name": "ipython",
    "version": 3
   },
   "file_extension": ".py",
   "mimetype": "text/x-python",
   "name": "python",
   "nbconvert_exporter": "python",
   "pygments_lexer": "ipython3",
   "version": "3.8.5"
  }
 },
 "nbformat": 4,
 "nbformat_minor": 4
}
