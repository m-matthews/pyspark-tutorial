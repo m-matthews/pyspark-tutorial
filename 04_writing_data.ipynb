{
 "cells": [
  {
   "cell_type": "markdown",
   "metadata": {},
   "source": [
    "# PySpark Tutorial - Writing Data"
   ]
  },
  {
   "cell_type": "markdown",
   "metadata": {},
   "source": [
    "Create the Spark Session required for any PySpark program.  Most programs will store this in a variable named `spark`."
   ]
  },
  {
   "cell_type": "code",
   "execution_count": 1,
   "metadata": {},
   "outputs": [],
   "source": [
    "from pyspark.sql import SparkSession\n",
    "from pyspark.sql.functions import col, to_date\n",
    "from pyspark.sql.types import IntegerType, DateType\n",
    "\n",
    "spark = SparkSession.builder.appName(\"PySparkTutorial\").getOrCreate()"
   ]
  },
  {
   "cell_type": "markdown",
   "metadata": {},
   "source": [
    "## Read the Source Data\n",
    "The following code creates a DataFrame for both the policies and claims by reading CSV files."
   ]
  },
  {
   "cell_type": "code",
   "execution_count": 2,
   "metadata": {},
   "outputs": [],
   "source": [
    "policyDF = spark.read.option(\"header\",True).csv(\"./data/policy.csv\") \\\n",
    "                .withColumn(\"sum_insured\", col(\"sum_insured\").cast(IntegerType())) \\\n",
    "                .withColumn(\"vehicle_age\", col(\"vehicle_age\").cast(IntegerType())) \\\n",
    "                .withColumn(\"premium\", col(\"premium\").cast(IntegerType()))\n",
    "claimsDF = spark.read.option(\"header\",True).csv(\"./data/claims.csv\") \\\n",
    "                .withColumn(\"cost\", col(\"cost\").cast(IntegerType()))"
   ]
  },
  {
   "cell_type": "code",
   "execution_count": 3,
   "metadata": {
    "scrolled": true
   },
   "outputs": [
    {
     "name": "stdout",
     "output_type": "stream",
     "text": [
      "NOTE: Fixing date column 'inception_date'.\n",
      "NOTE: Fixing date column 'start_date'.\n",
      "NOTE: Fixing date column 'end_date'.\n",
      "NOTE: Fixing date column 'incident_date'.\n"
     ]
    }
   ],
   "source": [
    "def fix_dates(df):\n",
    "    \"\"\"Find all columns named *_date and convert from string to Spark Date type.\"\"\"\n",
    "    for column in df.columns:\n",
    "        if column.endswith(\"_date\") and dict(df.dtypes)[column]=='string':\n",
    "            print(\"NOTE: Fixing date column '{}'.\".format(column))\n",
    "            df = df.withColumn(column, to_date(df[column], \"yyyyMMdd\"))\n",
    "    return df\n",
    "\n",
    "policyDF = fix_dates(policyDF)\n",
    "claimsDF = fix_dates(claimsDF)"
   ]
  },
  {
   "cell_type": "markdown",
   "metadata": {},
   "source": [
    "Viewing the updated DataFrames shows that the date columns are now using the Spark `date` types."
   ]
  },
  {
   "cell_type": "code",
   "execution_count": 4,
   "metadata": {},
   "outputs": [
    {
     "name": "stdout",
     "output_type": "stream",
     "text": [
      "root\n",
      " |-- policy: string (nullable = true)\n",
      " |-- make: string (nullable = true)\n",
      " |-- vehicle_age: integer (nullable = true)\n",
      " |-- sum_insured: integer (nullable = true)\n",
      " |-- inception_date: date (nullable = true)\n",
      " |-- start_date: date (nullable = true)\n",
      " |-- end_date: date (nullable = true)\n",
      " |-- premium: integer (nullable = true)\n",
      "\n",
      "+-------+------+-----------+-----------+--------------+----------+----------+-------+\n",
      "| policy|  make|vehicle_age|sum_insured|inception_date|start_date|  end_date|premium|\n",
      "+-------+------+-----------+-----------+--------------+----------+----------+-------+\n",
      "|CAR0001|TOYOTA|          1|      15000|    2018-01-01|2018-01-01|2018-12-31|   1000|\n",
      "|CAR0001|TOYOTA|          2|      13500|    2018-01-01|2019-01-01|2019-12-31|    900|\n",
      "|CAR0001|TOYOTA|          3|      12000|    2018-01-01|2020-01-01|2020-12-31|    800|\n",
      "|CAR0002|SUBARU|          2|      14000|    2020-02-10|2020-02-10|2021-02-09|    950|\n",
      "|CAR0003|  FORD|          6|      10000|    2018-03-15|2018-03-15|2019-03-14|    700|\n",
      "+-------+------+-----------+-----------+--------------+----------+----------+-------+\n",
      "only showing top 5 rows\n",
      "\n"
     ]
    }
   ],
   "source": [
    "policyDF.printSchema()\n",
    "policyDF.show(5)"
   ]
  },
  {
   "cell_type": "markdown",
   "metadata": {},
   "source": [
    "## Writing Data\n",
    "\n",
    "The following code writes the DataFrames in `parquet` format."
   ]
  },
  {
   "cell_type": "code",
   "execution_count": 5,
   "metadata": {},
   "outputs": [],
   "source": [
    "policyDF.write.mode('overwrite').parquet(\"./data/policy.parquet\")"
   ]
  },
  {
   "cell_type": "markdown",
   "metadata": {},
   "source": [
    "Spark can be using many partitions for data, so frequently will not just write a single file.  The name above is a folder name which will then contain all of the components:"
   ]
  },
  {
   "cell_type": "code",
   "execution_count": 6,
   "metadata": {},
   "outputs": [
    {
     "name": "stdout",
     "output_type": "stream",
     "text": [
      "./data/policy.parquet/_SUCCESS\n",
      "./data/policy.parquet/part-00000-cfcdfc72-373b-4a99-bb73-645f3e2a939b-c000.snappy.parquet\n"
     ]
    }
   ],
   "source": [
    "import glob\n",
    "\n",
    "for file in sorted(glob.glob(\"./data/policy.parquet/*\")):\n",
    "    print(file)"
   ]
  },
  {
   "cell_type": "markdown",
   "metadata": {},
   "source": [
    "The following example shows using 2 partitions for processing:"
   ]
  },
  {
   "cell_type": "code",
   "execution_count": 7,
   "metadata": {},
   "outputs": [],
   "source": [
    "claimsDF = claimsDF.repartition(2)\n",
    "claimsDF.write.mode('overwrite').parquet(\"./data/claims.parquet\")"
   ]
  },
  {
   "cell_type": "markdown",
   "metadata": {},
   "source": [
    "The resulting number of files is based on the number of partitions:"
   ]
  },
  {
   "cell_type": "code",
   "execution_count": 8,
   "metadata": {},
   "outputs": [
    {
     "name": "stdout",
     "output_type": "stream",
     "text": [
      "./data/claims.parquet/_SUCCESS\n",
      "./data/claims.parquet/part-00000-5c5878c3-7666-4f35-a879-586459e5a39a-c000.snappy.parquet\n",
      "./data/claims.parquet/part-00001-5c5878c3-7666-4f35-a879-586459e5a39a-c000.snappy.parquet\n"
     ]
    }
   ],
   "source": [
    "for file in sorted(glob.glob(\"./data/claims.parquet/*\")):\n",
    "    print(file)"
   ]
  },
  {
   "cell_type": "markdown",
   "metadata": {},
   "source": [
    "## Reading Parquet Files\n",
    "\n",
    "Parquet files are a column based format which is generally efficient for storage and performance.  It also supports all Spark data types, so will retain the correct Date formats!"
   ]
  },
  {
   "cell_type": "code",
   "execution_count": 9,
   "metadata": {},
   "outputs": [
    {
     "name": "stdout",
     "output_type": "stream",
     "text": [
      "root\n",
      " |-- policy: string (nullable = true)\n",
      " |-- make: string (nullable = true)\n",
      " |-- vehicle_age: integer (nullable = true)\n",
      " |-- sum_insured: integer (nullable = true)\n",
      " |-- inception_date: date (nullable = true)\n",
      " |-- start_date: date (nullable = true)\n",
      " |-- end_date: date (nullable = true)\n",
      " |-- premium: integer (nullable = true)\n",
      "\n",
      "+-------+------+-----------+-----------+--------------+----------+----------+-------+\n",
      "| policy|  make|vehicle_age|sum_insured|inception_date|start_date|  end_date|premium|\n",
      "+-------+------+-----------+-----------+--------------+----------+----------+-------+\n",
      "|CAR0001|TOYOTA|          1|      15000|    2018-01-01|2018-01-01|2018-12-31|   1000|\n",
      "|CAR0001|TOYOTA|          2|      13500|    2018-01-01|2019-01-01|2019-12-31|    900|\n",
      "|CAR0001|TOYOTA|          3|      12000|    2018-01-01|2020-01-01|2020-12-31|    800|\n",
      "|CAR0002|SUBARU|          2|      14000|    2020-02-10|2020-02-10|2021-02-09|    950|\n",
      "|CAR0003|  FORD|          6|      10000|    2018-03-15|2018-03-15|2019-03-14|    700|\n",
      "+-------+------+-----------+-----------+--------------+----------+----------+-------+\n",
      "only showing top 5 rows\n",
      "\n"
     ]
    }
   ],
   "source": [
    "parquetDF = spark.read.parquet(\"./data/policy.parquet\")\n",
    "parquetDF.printSchema()\n",
    "parquetDF.show(5)"
   ]
  },
  {
   "cell_type": "markdown",
   "metadata": {},
   "source": [
    "It helps to save resources if you `stop()` the Spark session when you are finished.  Note that by doing this you will be unable to re-run any of the code above without first re-creating the `spark` variable."
   ]
  },
  {
   "cell_type": "code",
   "execution_count": 10,
   "metadata": {},
   "outputs": [],
   "source": [
    "spark.stop()"
   ]
  }
 ],
 "metadata": {
  "kernelspec": {
   "display_name": "Python 3",
   "language": "python",
   "name": "python3"
  },
  "language_info": {
   "codemirror_mode": {
    "name": "ipython",
    "version": 3
   },
   "file_extension": ".py",
   "mimetype": "text/x-python",
   "name": "python",
   "nbconvert_exporter": "python",
   "pygments_lexer": "ipython3",
   "version": "3.8.5"
  }
 },
 "nbformat": 4,
 "nbformat_minor": 4
}
