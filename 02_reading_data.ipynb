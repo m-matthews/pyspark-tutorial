{
 "cells": [
  {
   "cell_type": "markdown",
   "metadata": {},
   "source": [
    "# PySpark Tutorial - Reading data"
   ]
  },
  {
   "cell_type": "markdown",
   "metadata": {},
   "source": [
    "Create the Spark Session required for any PySpark program.  Most programs will store this in a variable named `spark`."
   ]
  },
  {
   "cell_type": "code",
   "execution_count": 9,
   "metadata": {},
   "outputs": [],
   "source": [
    "from pyspark.sql import SparkSession\n",
    "from pyspark.sql.functions import col, when, length, lit, concat, to_date\n",
    "from pyspark.sql.types import IntegerType, DateType, StringType\n",
    "\n",
    "spark = SparkSession.builder.appName(\"PySparkTutorial\").getOrCreate()"
   ]
  },
  {
   "cell_type": "markdown",
   "metadata": {},
   "source": [
    "The following code creates a DataFrame by reading a CSV file."
   ]
  },
  {
   "cell_type": "code",
   "execution_count": 10,
   "metadata": {},
   "outputs": [],
   "source": [
    "df = spark.read.option(\"header\",True).csv(\"./data/policy.csv\")"
   ]
  },
  {
   "cell_type": "markdown",
   "metadata": {},
   "source": [
    "The Schema of a DataFrame can be viewed with `printSchema()`.\n",
    "> Note that the default type shown below is string when many of these columns are either integer or date.  This will be fixed in subsequent steps showing data type conversion."
   ]
  },
  {
   "cell_type": "code",
   "execution_count": 11,
   "metadata": {},
   "outputs": [
    {
     "name": "stdout",
     "output_type": "stream",
     "text": [
      "root\n",
      " |-- policy: string (nullable = true)\n",
      " |-- make: string (nullable = true)\n",
      " |-- vehicle_age: string (nullable = true)\n",
      " |-- sum_insured: string (nullable = true)\n",
      " |-- inception_date: string (nullable = true)\n",
      " |-- start_date: string (nullable = true)\n",
      " |-- end_date: string (nullable = true)\n",
      "\n"
     ]
    }
   ],
   "source": [
    "df.printSchema()"
   ]
  },
  {
   "cell_type": "markdown",
   "metadata": {},
   "source": [
    "The contents of a DataFrame can be viewed in the log using `show()`."
   ]
  },
  {
   "cell_type": "code",
   "execution_count": 12,
   "metadata": {
    "scrolled": true
   },
   "outputs": [
    {
     "name": "stdout",
     "output_type": "stream",
     "text": [
      "+-------+------+-----------+-----------+--------------+----------+--------+\n",
      "| policy|  make|vehicle_age|sum_insured|inception_date|start_date|end_date|\n",
      "+-------+------+-----------+-----------+--------------+----------+--------+\n",
      "|CAR0001|TOYOTA|          1|      15000|      20180101|  20180101|20181231|\n",
      "|CAR0001|TOYOTA|          2|      13500|      20180101|  20190101|20191231|\n",
      "|CAR0001|TOYOTA|          3|      12000|      20180101|  20200101|20201231|\n",
      "|CAR0002|SUBARU|          2|      14000|      20200210|  20200210|20210209|\n",
      "|CAR0003|  FORD|          6|      10000|      20180315|  20180315|20190314|\n",
      "+-------+------+-----------+-----------+--------------+----------+--------+\n",
      "only showing top 5 rows\n",
      "\n"
     ]
    }
   ],
   "source": [
    "df.show(5)"
   ]
  },
  {
   "cell_type": "markdown",
   "metadata": {},
   "source": [
    "It is possible to `cast()` data from string to integer.  Note that if the data is read from a data source other than CSV it is most likely in the correct format already."
   ]
  },
  {
   "cell_type": "code",
   "execution_count": 13,
   "metadata": {},
   "outputs": [
    {
     "name": "stdout",
     "output_type": "stream",
     "text": [
      "root\n",
      " |-- policy: string (nullable = true)\n",
      " |-- make: string (nullable = true)\n",
      " |-- vehicle_age: integer (nullable = true)\n",
      " |-- sum_insured: integer (nullable = true)\n",
      " |-- inception_date: string (nullable = true)\n",
      " |-- start_date: string (nullable = true)\n",
      " |-- end_date: string (nullable = true)\n",
      "\n"
     ]
    }
   ],
   "source": [
    "df = df.withColumn(\"sum_insured\", df[\"sum_insured\"].cast(IntegerType())) \\\n",
    "       .withColumn(\"vehicle_age\", df[\"vehicle_age\"].cast(IntegerType()))\n",
    "\n",
    "df.printSchema()"
   ]
  },
  {
   "cell_type": "markdown",
   "metadata": {},
   "source": [
    "The following code shows how a function can be used to iterate over columns in a DataFrame using `df.columns`.  This appears to be constantly creating new DataFrames, however it should be remembered that Spark uses Lazy Evaluation, and this is just creating a chain of instructions that can later be optimised."
   ]
  },
  {
   "cell_type": "code",
   "execution_count": 17,
   "metadata": {},
   "outputs": [
    {
     "name": "stdout",
     "output_type": "stream",
     "text": [
      "root\n",
      " |-- policy: string (nullable = true)\n",
      " |-- make: string (nullable = true)\n",
      " |-- vehicle_age: integer (nullable = true)\n",
      " |-- sum_insured: integer (nullable = true)\n",
      " |-- inception_date: date (nullable = true)\n",
      " |-- start_date: date (nullable = true)\n",
      " |-- end_date: date (nullable = true)\n",
      "\n",
      "+-------+------+-----------+-----------+--------------+----------+----------+\n",
      "| policy|  make|vehicle_age|sum_insured|inception_date|start_date|  end_date|\n",
      "+-------+------+-----------+-----------+--------------+----------+----------+\n",
      "|CAR0001|TOYOTA|          1|      15000|    2018-01-01|2018-01-01|2018-12-31|\n",
      "|CAR0001|TOYOTA|          2|      13500|    2018-01-01|2019-01-01|2019-12-31|\n",
      "|CAR0001|TOYOTA|          3|      12000|    2018-01-01|2020-01-01|2020-12-31|\n",
      "|CAR0002|SUBARU|          2|      14000|    2020-02-10|2020-02-10|2021-02-09|\n",
      "|CAR0003|  FORD|          6|      10000|    2018-03-15|2018-03-15|2019-03-14|\n",
      "+-------+------+-----------+-----------+--------------+----------+----------+\n",
      "only showing top 5 rows\n",
      "\n"
     ]
    }
   ],
   "source": [
    "def fix_dates(df):\n",
    "    \"\"\"Find all columns named *_date and convert from string to Spark Date type.\"\"\"\n",
    "    for col in df.columns:\n",
    "        if col.endswith(\"_date\") and dict(df.dtypes)[col]=='string':\n",
    "            print(\"NOTE: Fixing date column '{}'.\".format(col))\n",
    "            df = df.withColumn(col, to_date(df[col], \"yyyyMMdd\"))\n",
    "    return df\n",
    "\n",
    "df = fix_dates(df)\n",
    "df.printSchema()\n",
    "df.show(5)"
   ]
  },
  {
   "cell_type": "markdown",
   "metadata": {},
   "source": [
    "The `withColumn()` method can be used to create new columns in the DataFrame, and the `when()` method can perform calculations in a similar way to the SQL `case` statement."
   ]
  },
  {
   "cell_type": "code",
   "execution_count": 22,
   "metadata": {},
   "outputs": [
    {
     "name": "stdout",
     "output_type": "stream",
     "text": [
      "+-------+----------+------------+-------+-----------+-----------+\n",
      "| policy|start_date|      status|   make|vehicle_age|sum_insured|\n",
      "+-------+----------+------------+-------+-----------+-----------+\n",
      "|CAR0001|2018-01-01|New Business| TOYOTA|          1|      15000|\n",
      "|CAR0001|2019-01-01|     Renewal| TOYOTA|          2|      13500|\n",
      "|CAR0001|2020-01-01|     Renewal| TOYOTA|          3|      12000|\n",
      "|CAR0002|2020-02-10|New Business| SUBARU|          2|      14000|\n",
      "|CAR0003|2018-03-15|New Business|   FORD|          6|      10000|\n",
      "|CAR0003|2019-03-15|     Renewal|   FORD|          7|       9000|\n",
      "|CAR0003|2020-03-15|     Renewal|   FORD|          8|       8000|\n",
      "|CAR0004|2019-04-02|New Business|  MAZDA|          4|      11000|\n",
      "|CAR0004|2020-04-02|New Business|  MAZDA|          5|      10000|\n",
      "|CAR0005|2020-05-16|New Business| HOLDEN|          9|       6000|\n",
      "|CAR0006|2020-06-18|New Business| SUZUKI|          5|       4000|\n",
      "|CAR0007|2020-07-13|New Business|    BMW|          4|      24000|\n",
      "|CAR0008|2020-08-11|New Business|   AUDI|          3|      28000|\n",
      "|CAR0009|2019-09-17|New Business|  TESLA|          1|      72000|\n",
      "|CAR0009|2020-09-17|     Renewal|  TESLA|          2|      65000|\n",
      "|CAR0010|2020-10-15|New Business|HYUNDAI|          6|       5000|\n",
      "+-------+----------+------------+-------+-----------+-----------+\n",
      "\n"
     ]
    }
   ],
   "source": [
    "df = df.withColumn(\"status\", when(df.start_date==df.inception_date, \"New Business\") \\\n",
    "                            .otherwise(\"Renewal\"))\n",
    "df.select([\"policy\", \"start_date\", \"status\", \"make\", \"vehicle_age\", \"sum_insured\"]).show()"
   ]
  },
  {
   "cell_type": "markdown",
   "metadata": {},
   "source": [
    "The following example shows summarisation with `groupBy`:"
   ]
  },
  {
   "cell_type": "code",
   "execution_count": 23,
   "metadata": {},
   "outputs": [
    {
     "name": "stdout",
     "output_type": "stream",
     "text": [
      "+------------+-------------+\n",
      "|      status|total_insured|\n",
      "+------------+-------------+\n",
      "|     Renewal|       107500|\n",
      "|New Business|       199000|\n",
      "+------------+-------------+\n",
      "\n"
     ]
    }
   ],
   "source": [
    "summary = df.groupBy(\"status\").sum(\"sum_insured\") \\\n",
    "            .withColumnRenamed(\"sum(sum_insured)\", \"total_insured\")\n",
    "summary.show()"
   ]
  },
  {
   "cell_type": "markdown",
   "metadata": {},
   "source": [
    "Note that it is possible to do all of these instructions in a single step, although the syntax for referencing a column uses `col(\"varname\")` rather than `df.varname` as the DataFrame df does not exist at this point:"
   ]
  },
  {
   "cell_type": "code",
   "execution_count": 25,
   "metadata": {},
   "outputs": [
    {
     "name": "stdout",
     "output_type": "stream",
     "text": [
      "+------------+-------------+\n",
      "|      status|total_insured|\n",
      "+------------+-------------+\n",
      "|     Renewal|       107500|\n",
      "|New Business|       199000|\n",
      "+------------+-------------+\n",
      "\n"
     ]
    }
   ],
   "source": [
    "df2 = spark.read.option(\"header\",True).csv(\"./data/policy.csv\") \\\n",
    "           .withColumn(\"sum_insured\", col(\"sum_insured\").cast(IntegerType())) \\\n",
    "           .withColumn(\"vehicle_age\", col(\"vehicle_age\").cast(IntegerType())) \\\n",
    "           .withColumn(\"inception_date\", to_date(col(\"inception_date\"), \"yyyyMMdd\")) \\\n",
    "           .withColumn(\"start_date\", to_date(col(\"start_date\"), \"yyyyMMdd\")) \\\n",
    "           .withColumn(\"end_date\", to_date(col(\"end_date\"), \"yyyyMMdd\")) \\\n",
    "           .withColumn(\"status\", when(col(\"start_date\")==col(\"inception_date\"), \"New Business\") \\\n",
    "                                .otherwise(\"Renewal\")) \\\n",
    "           .groupBy(\"status\").sum(\"sum_insured\") \\\n",
    "           .withColumnRenamed(\"sum(sum_insured)\", \"total_insured\")\n",
    "df2.show()"
   ]
  },
  {
   "cell_type": "markdown",
   "metadata": {},
   "source": [
    "It helps to save resources if you `stop()` the Spark session when you are finished.  Note that by doing this you will be unable to re-run any of the code above without first re-creating the `spark` variable."
   ]
  },
  {
   "cell_type": "code",
   "execution_count": 10,
   "metadata": {},
   "outputs": [],
   "source": [
    "spark.stop()"
   ]
  }
 ],
 "metadata": {
  "kernelspec": {
   "display_name": "Python 3",
   "language": "python",
   "name": "python3"
  },
  "language_info": {
   "codemirror_mode": {
    "name": "ipython",
    "version": 3
   },
   "file_extension": ".py",
   "mimetype": "text/x-python",
   "name": "python",
   "nbconvert_exporter": "python",
   "pygments_lexer": "ipython3",
   "version": "3.8.5"
  }
 },
 "nbformat": 4,
 "nbformat_minor": 4
}
