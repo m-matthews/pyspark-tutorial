{
 "cells": [
  {
   "cell_type": "markdown",
   "metadata": {},
   "source": [
    "# PySpark Tutorial - Reading data"
   ]
  },
  {
   "cell_type": "markdown",
   "metadata": {},
   "source": [
    "Create the Spark Context required for any PySpark program.  Most programs will store this in a variable named `sc`."
   ]
  },
  {
   "cell_type": "code",
   "execution_count": 38,
   "metadata": {},
   "outputs": [],
   "source": [
    "from pyspark.sql import SparkSession\n",
    "from pyspark.sql.functions import col, when, length, lit, concat, to_date\n",
    "from pyspark.sql.types import IntegerType, DateType\n",
    "\n",
    "spark = SparkSession.builder.appName(\"PySparkTutorial\").getOrCreate()"
   ]
  },
  {
   "cell_type": "markdown",
   "metadata": {},
   "source": [
    "The following code creates a DataFrame by reading a CSV file."
   ]
  },
  {
   "cell_type": "code",
   "execution_count": 26,
   "metadata": {},
   "outputs": [],
   "source": [
    "df = spark.read.option(\"header\",True).csv(\"./data/policy.csv\")"
   ]
  },
  {
   "cell_type": "markdown",
   "metadata": {},
   "source": [
    "The Schema of a DataFrame can be viewed with `printSchema()`.\n",
    "> Note that the default type shown below is string when many of these columns are either integer or date.  This will be fixed in subsequent steps showing data type conversion."
   ]
  },
  {
   "cell_type": "code",
   "execution_count": 27,
   "metadata": {},
   "outputs": [
    {
     "name": "stdout",
     "output_type": "stream",
     "text": [
      "root\n",
      " |-- policy: string (nullable = true)\n",
      " |-- make: string (nullable = true)\n",
      " |-- vehicle_age: string (nullable = true)\n",
      " |-- sum_insured: string (nullable = true)\n",
      " |-- start_date: string (nullable = true)\n",
      " |-- end_date: string (nullable = true)\n",
      "\n"
     ]
    }
   ],
   "source": [
    "df.printSchema()"
   ]
  },
  {
   "cell_type": "markdown",
   "metadata": {},
   "source": [
    "The contents of a DataFrame can be viewed in the log using `show()`."
   ]
  },
  {
   "cell_type": "code",
   "execution_count": 28,
   "metadata": {
    "scrolled": true
   },
   "outputs": [
    {
     "name": "stdout",
     "output_type": "stream",
     "text": [
      "+-------+------+-----------+-----------+----------+--------+\n",
      "| policy|  make|vehicle_age|sum_insured|start_date|end_date|\n",
      "+-------+------+-----------+-----------+----------+--------+\n",
      "|CAR0001|TOYOTA|          3|      12000|  20200101|20201231|\n",
      "|CAR0002|SUBARU|          2|      14000|  20200210|20210209|\n",
      "|CAR0003|  FORD|          8|       8000|  20200315|20210314|\n",
      "|CAR0004| MAZDA|          4|      11000|  20200402|20210401|\n",
      "|CAR0005|HOLDEN|          9|       6000|  20200516|20210515|\n",
      "+-------+------+-----------+-----------+----------+--------+\n",
      "only showing top 5 rows\n",
      "\n"
     ]
    }
   ],
   "source": [
    "df.show(5)"
   ]
  },
  {
   "cell_type": "markdown",
   "metadata": {},
   "source": [
    "It is possible to `cast()` data from string to integer.  Note that if the data is read from a data source other than CSV it is most likely in the correct format already."
   ]
  },
  {
   "cell_type": "code",
   "execution_count": 29,
   "metadata": {},
   "outputs": [
    {
     "name": "stdout",
     "output_type": "stream",
     "text": [
      "root\n",
      " |-- policy: string (nullable = true)\n",
      " |-- make: string (nullable = true)\n",
      " |-- vehicle_age: integer (nullable = true)\n",
      " |-- sum_insured: integer (nullable = true)\n",
      " |-- start_date: string (nullable = true)\n",
      " |-- end_date: string (nullable = true)\n",
      "\n"
     ]
    }
   ],
   "source": [
    "df = df.withColumn(\"sum_insured\", df[\"sum_insured\"].cast(IntegerType())) \\\n",
    "       .withColumn(\"vehicle_age\", df[\"vehicle_age\"].cast(IntegerType()))\n",
    "\n",
    "df.printSchema()"
   ]
  },
  {
   "cell_type": "markdown",
   "metadata": {},
   "source": [
    "The following code shows how a function can be used to iterate over columns in a DataFrame using `df.columns`.  This appears to be constantly creating new DataFrames, however it should be remembered that Spark uses Lazy Evaluation, and this is just creating a chain of instructions that can later be optimised."
   ]
  },
  {
   "cell_type": "code",
   "execution_count": 39,
   "metadata": {},
   "outputs": [
    {
     "name": "stdout",
     "output_type": "stream",
     "text": [
      "NOTE: Fixing date column 'start_date'.\n",
      "NOTE: Fixing date column 'end_date'.\n",
      "root\n",
      " |-- policy: string (nullable = true)\n",
      " |-- make: string (nullable = true)\n",
      " |-- vehicle_age: integer (nullable = true)\n",
      " |-- sum_insured: integer (nullable = true)\n",
      " |-- start_date: date (nullable = true)\n",
      " |-- end_date: date (nullable = true)\n",
      " |-- class: string (nullable = false)\n",
      "\n"
     ]
    }
   ],
   "source": [
    "def fix_dates(df):\n",
    "    \"\"\"Find all columns named *_date and convert from string to Spark Date type.\"\"\"\n",
    "    for col in df.columns:\n",
    "        if col.endswith(\"_date\"):\n",
    "            print(\"NOTE: Fixing date column '{}'.\".format(col))\n",
    "            df = df.withColumn(col, to_date(df[col], \"yyyyMMdd\"))\n",
    "    return df\n",
    "\n",
    "df = fix_dates(df)\n",
    "df.printSchema()"
   ]
  },
  {
   "cell_type": "markdown",
   "metadata": {},
   "source": [
    "The `withColumn()` method can be used to create new columns in the DataFrame."
   ]
  },
  {
   "cell_type": "code",
   "execution_count": 42,
   "metadata": {},
   "outputs": [
    {
     "name": "stdout",
     "output_type": "stream",
     "text": [
      "+-------+---------+-------+-----------+-----------+\n",
      "| policy|    class|   make|vehicle_age|sum_insured|\n",
      "+-------+---------+-------+-----------+-----------+\n",
      "|CAR0001| standard| TOYOTA|          3|      12000|\n",
      "|CAR0002| standard| SUBARU|          2|      14000|\n",
      "|CAR0003|    cheap|   FORD|          8|       8000|\n",
      "|CAR0004| standard|  MAZDA|          4|      11000|\n",
      "|CAR0005|    cheap| HOLDEN|          9|       6000|\n",
      "|CAR0006|    cheap| SUZUKI|          5|       4000|\n",
      "|CAR0007| standard|    BMW|          4|      24000|\n",
      "|CAR0008| standard|   AUDI|          3|      28000|\n",
      "|CAR0009|expensive|  TESLA|          2|      65000|\n",
      "|CAR0010|    cheap|HYUNDAI|          6|       5000|\n",
      "+-------+---------+-------+-----------+-----------+\n",
      "\n"
     ]
    }
   ],
   "source": [
    "df = df.withColumn(\"class\", when(df.sum_insured>50000, \"expensive\") \\\n",
    "                           .when(df.sum_insured>10000, \"standard\") \\\n",
    "                           .otherwise(\"cheap\"))\n",
    "df.select([\"policy\", \"class\", \"make\", \"vehicle_age\", \"sum_insured\"]).show()"
   ]
  },
  {
   "cell_type": "markdown",
   "metadata": {},
   "source": [
    "The call to `show()` on the new DataFrame forces execution of the `filter()` and the rows are returned."
   ]
  },
  {
   "cell_type": "code",
   "execution_count": 47,
   "metadata": {},
   "outputs": [
    {
     "name": "stdout",
     "output_type": "stream",
     "text": [
      "+---------+-------------+\n",
      "|    class|total_insured|\n",
      "+---------+-------------+\n",
      "|expensive|        65000|\n",
      "|    cheap|        23000|\n",
      "| standard|        89000|\n",
      "+---------+-------------+\n",
      "\n"
     ]
    }
   ],
   "source": [
    "summary = df.groupBy(\"class\").sum(\"sum_insured\") \\\n",
    "            .withColumnRenamed(\"sum(sum_insured)\", \"total_insured\")\n",
    "summary.show()"
   ]
  },
  {
   "cell_type": "markdown",
   "metadata": {},
   "source": [
    "It helps to save resources if you `stop()` the Spark session when you are finished.  Note that by doing this you will be unable to re-run any of the code above without first re-creating the `spark` variable."
   ]
  },
  {
   "cell_type": "markdown",
   "metadata": {},
   "source": [
    "Note that it is possible to do all of these instructions in a single step, although the syntax for referencing a column uses `col(\"name\")` :"
   ]
  },
  {
   "cell_type": "code",
   "execution_count": 52,
   "metadata": {},
   "outputs": [
    {
     "name": "stdout",
     "output_type": "stream",
     "text": [
      "+---------+-------------+\n",
      "|    class|total_insured|\n",
      "+---------+-------------+\n",
      "|expensive|        65000|\n",
      "|    cheap|        23000|\n",
      "| standard|        89000|\n",
      "+---------+-------------+\n",
      "\n"
     ]
    }
   ],
   "source": [
    "df2 = spark.read.option(\"header\",True).csv(\"./data/policy.csv\") \\\n",
    "           .withColumn(\"sum_insured\", col(\"sum_insured\").cast(IntegerType())) \\\n",
    "           .withColumn(\"vehicle_age\", col(\"vehicle_age\").cast(IntegerType())) \\\n",
    "           .withColumn(\"start_date\", to_date(col(\"start_date\"), \"yyyyMMdd\")) \\\n",
    "           .withColumn(\"end_date\", to_date(col(\"end_date\"), \"yyyyMMdd\")) \\\n",
    "           .withColumn(\"class\", when(col(\"sum_insured\")>50000, \"expensive\") \\\n",
    "                               .when(col(\"sum_insured\")>10000, \"standard\") \\\n",
    "                               .otherwise(\"cheap\")) \\\n",
    "           .groupBy(\"class\").sum(\"sum_insured\") \\\n",
    "           .withColumnRenamed(\"sum(sum_insured)\", \"total_insured\")\n",
    "df2.show()"
   ]
  },
  {
   "cell_type": "code",
   "execution_count": 8,
   "metadata": {},
   "outputs": [],
   "source": [
    "spark.stop()"
   ]
  }
 ],
 "metadata": {
  "kernelspec": {
   "display_name": "Python 3",
   "language": "python",
   "name": "python3"
  },
  "language_info": {
   "codemirror_mode": {
    "name": "ipython",
    "version": 3
   },
   "file_extension": ".py",
   "mimetype": "text/x-python",
   "name": "python",
   "nbconvert_exporter": "python",
   "pygments_lexer": "ipython3",
   "version": "3.8.5"
  }
 },
 "nbformat": 4,
 "nbformat_minor": 4
}
