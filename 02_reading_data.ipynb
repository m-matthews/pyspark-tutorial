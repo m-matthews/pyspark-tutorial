{
 "cells": [
  {
   "cell_type": "markdown",
   "metadata": {},
   "source": [
    "# PySpark Tutorial - Reading data"
   ]
  },
  {
   "cell_type": "markdown",
   "metadata": {},
   "source": [
    "Create the Spark Session required for any PySpark program.  Most programs will store this in a variable named `spark`."
   ]
  },
  {
   "cell_type": "code",
   "execution_count": 1,
   "metadata": {},
   "outputs": [],
   "source": [
    "from pyspark.sql import SparkSession\n",
    "from pyspark.sql.functions import col\n",
    "from pyspark.sql.types import IntegerType\n",
    "\n",
    "spark = SparkSession.builder.appName(\"PySparkTutorial\").getOrCreate()"
   ]
  },
  {
   "cell_type": "markdown",
   "metadata": {},
   "source": [
    "The following code creates a DataFrame by reading a CSV file."
   ]
  },
  {
   "cell_type": "code",
   "execution_count": 2,
   "metadata": {},
   "outputs": [],
   "source": [
    "df = spark.read.option(\"header\",True).csv(\"./data/policy.csv\")"
   ]
  },
  {
   "cell_type": "markdown",
   "metadata": {},
   "source": [
    "The Schema of a DataFrame can be viewed with `printSchema()`.\n",
    "> Note that the default type shown below is string when many of these columns are either integer or date.  This will be fixed in subsequent steps showing data type conversion."
   ]
  },
  {
   "cell_type": "code",
   "execution_count": 3,
   "metadata": {},
   "outputs": [
    {
     "name": "stdout",
     "output_type": "stream",
     "text": [
      "root\n",
      " |-- policy: string (nullable = true)\n",
      " |-- make: string (nullable = true)\n",
      " |-- vehicle_age: string (nullable = true)\n",
      " |-- sum_insured: string (nullable = true)\n",
      " |-- inception_date: string (nullable = true)\n",
      " |-- start_date: string (nullable = true)\n",
      " |-- end_date: string (nullable = true)\n",
      " |-- premium: string (nullable = true)\n",
      "\n"
     ]
    }
   ],
   "source": [
    "df.printSchema()"
   ]
  },
  {
   "cell_type": "markdown",
   "metadata": {},
   "source": [
    "The contents of a DataFrame can be viewed in the log using `show()`."
   ]
  },
  {
   "cell_type": "code",
   "execution_count": 4,
   "metadata": {
    "scrolled": true
   },
   "outputs": [
    {
     "name": "stdout",
     "output_type": "stream",
     "text": [
      "+-------+------+-----------+-----------+--------------+----------+--------+-------+\n",
      "| policy|  make|vehicle_age|sum_insured|inception_date|start_date|end_date|premium|\n",
      "+-------+------+-----------+-----------+--------------+----------+--------+-------+\n",
      "|CAR0001|TOYOTA|          1|      15000|      20180101|  20180101|20181231|   1000|\n",
      "|CAR0001|TOYOTA|          2|      13500|      20180101|  20190101|20191231|    900|\n",
      "|CAR0001|TOYOTA|          3|      12000|      20180101|  20200101|20201231|    800|\n",
      "|CAR0002|SUBARU|          2|      14000|      20200210|  20200210|20210209|    950|\n",
      "|CAR0003|  FORD|          6|      10000|      20180315|  20180315|20190314|    700|\n",
      "+-------+------+-----------+-----------+--------------+----------+--------+-------+\n",
      "only showing top 5 rows\n",
      "\n"
     ]
    }
   ],
   "source": [
    "df.show(5)"
   ]
  },
  {
   "cell_type": "markdown",
   "metadata": {},
   "source": [
    "It is possible to `cast()` data from string to integer.  The example below shows three ways of referencing an existing column in a DataFrame; `df.columnname`, `df[\"columnname\"]` and `col(\"columnname\")`.\n",
    "\n",
    "Note that if the data is read from a data source other than CSV it is most likely in the correct format already."
   ]
  },
  {
   "cell_type": "code",
   "execution_count": 5,
   "metadata": {},
   "outputs": [
    {
     "name": "stdout",
     "output_type": "stream",
     "text": [
      "root\n",
      " |-- policy: string (nullable = true)\n",
      " |-- make: string (nullable = true)\n",
      " |-- vehicle_age: integer (nullable = true)\n",
      " |-- sum_insured: integer (nullable = true)\n",
      " |-- inception_date: string (nullable = true)\n",
      " |-- start_date: string (nullable = true)\n",
      " |-- end_date: string (nullable = true)\n",
      " |-- premium: integer (nullable = true)\n",
      "\n"
     ]
    }
   ],
   "source": [
    "df = df.withColumn(\"sum_insured\", df.sum_insured.cast(IntegerType())) \\\n",
    "       .withColumn(\"vehicle_age\", df[\"vehicle_age\"].cast(IntegerType())) \\\n",
    "       .withColumn(\"premium\", col(\"premium\").cast(IntegerType()))\n",
    "\n",
    "df.printSchema()"
   ]
  },
  {
   "cell_type": "markdown",
   "metadata": {},
   "source": [
    "Note that it is possible to do all of these instructions in a single step, although the syntax for referencing a column uses `col(\"varname\")` rather than `df.varname` as the DataFrame df does not exist at this point:"
   ]
  },
  {
   "cell_type": "code",
   "execution_count": 6,
   "metadata": {},
   "outputs": [
    {
     "name": "stdout",
     "output_type": "stream",
     "text": [
      "+-------+------+-----------+-----------+--------------+----------+--------+-------+\n",
      "| policy|  make|vehicle_age|sum_insured|inception_date|start_date|end_date|premium|\n",
      "+-------+------+-----------+-----------+--------------+----------+--------+-------+\n",
      "|CAR0001|TOYOTA|          1|      15000|      20180101|  20180101|20181231|   1000|\n",
      "|CAR0001|TOYOTA|          2|      13500|      20180101|  20190101|20191231|    900|\n",
      "|CAR0001|TOYOTA|          3|      12000|      20180101|  20200101|20201231|    800|\n",
      "|CAR0002|SUBARU|          2|      14000|      20200210|  20200210|20210209|    950|\n",
      "|CAR0003|  FORD|          6|      10000|      20180315|  20180315|20190314|    700|\n",
      "+-------+------+-----------+-----------+--------------+----------+--------+-------+\n",
      "only showing top 5 rows\n",
      "\n"
     ]
    }
   ],
   "source": [
    "df2 = spark.read.option(\"header\",True).csv(\"./data/policy.csv\") \\\n",
    "           .withColumn(\"sum_insured\", col(\"sum_insured\").cast(IntegerType())) \\\n",
    "           .withColumn(\"vehicle_age\", col(\"vehicle_age\").cast(IntegerType())) \\\n",
    "           .withColumn(\"premium\", col(\"premium\").cast(IntegerType()))\n",
    "df2.show(5)"
   ]
  },
  {
   "cell_type": "markdown",
   "metadata": {},
   "source": [
    "It helps to save resources if you `stop()` the Spark session when you are finished.  Note that by doing this you will be unable to re-run any of the code above without first re-creating the `spark` variable."
   ]
  },
  {
   "cell_type": "code",
   "execution_count": 7,
   "metadata": {},
   "outputs": [],
   "source": [
    "spark.stop()"
   ]
  }
 ],
 "metadata": {
  "kernelspec": {
   "display_name": "Python 3",
   "language": "python",
   "name": "python3"
  },
  "language_info": {
   "codemirror_mode": {
    "name": "ipython",
    "version": 3
   },
   "file_extension": ".py",
   "mimetype": "text/x-python",
   "name": "python",
   "nbconvert_exporter": "python",
   "pygments_lexer": "ipython3",
   "version": "3.8.5"
  }
 },
 "nbformat": 4,
 "nbformat_minor": 4
}
